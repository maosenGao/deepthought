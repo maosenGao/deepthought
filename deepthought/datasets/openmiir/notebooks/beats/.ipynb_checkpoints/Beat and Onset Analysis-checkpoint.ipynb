{
 "cells": [
  {
   "cell_type": "markdown",
   "metadata": {},
   "source": [
    "Note: This notebook about 40 MB of embedded output data, which should be put under version control.   \n",
    "Please make sure to clear all cell output using the Cell>All Output>Clear command from the menu befor committing changes!  \n",
    "Use Cell>Run all to reproduce the output.\n",
    "\n",
    "注意:这个笔记本大约有40mb的嵌入式输出数据，应该放在版本控制下。\n",
    "在提交更改之前，请确保使用菜单中的单元格> all output > clear命令清除所有单元格输出使用单元>全部运行以重现输出。"
   ]
  },
  {
   "cell_type": "code",
   "execution_count": 10,
   "metadata": {},
   "outputs": [
    {
     "name": "stdout",
     "output_type": "stream",
     "text": [
      "Collecting librosa\n",
      "Requirement already satisfied: decorator>=3.0.0 in d:\\vs17\\anaconda3_64\\lib\\site-packages (from librosa) (4.3.0)\n",
      "Collecting numpy>=1.15.0 (from librosa)\n",
      "  Using cached https://files.pythonhosted.org/packages/55/7a/f32b39164262765b069b0fe3ec5d4b47580c9c60f7bd3588b58ba8e93a4c/numpy-1.17.3-cp36-cp36m-win_amd64.whl\n",
      "Collecting soundfile>=0.9.0 (from librosa)\n",
      "  Using cached https://files.pythonhosted.org/packages/d7/72/1e80bc350b9a5e8f12fb0814a77d4f77f887382f076501fdaa89aa731b76/SoundFile-0.10.2-py2.py3.cp26.cp27.cp32.cp33.cp34.cp35.cp36.pp27.pp32.pp33-none-win_amd64.whl\n",
      "Requirement already satisfied: scipy>=1.0.0 in d:\\vs17\\anaconda3_64\\lib\\site-packages (from librosa) (1.1.0)\n",
      "Collecting joblib>=0.12 (from librosa)\n",
      "  Using cached https://files.pythonhosted.org/packages/8f/42/155696f85f344c066e17af287359c9786b436b1bf86029bb3411283274f3/joblib-0.14.0-py2.py3-none-any.whl\n",
      "Collecting numba>=0.43.0 (from librosa)\n",
      "  Using cached https://files.pythonhosted.org/packages/6e/ec/74adabcc82e2dd53d0d11f69efc75a08422bf849ab088f253b8e622f34ce/numba-0.46.0-cp36-cp36m-win_amd64.whl\n",
      "Requirement already satisfied: six>=1.3 in d:\\vs17\\anaconda3_64\\lib\\site-packages (from librosa) (1.11.0)\n",
      "Collecting audioread>=2.0.0 (from librosa)\n",
      "Collecting resampy>=0.2.2 (from librosa)\n",
      "Requirement already satisfied: scikit-learn!=0.19.0,>=0.14.0 in d:\\vs17\\anaconda3_64\\lib\\site-packages (from librosa) (0.19.1)\n",
      "Requirement already satisfied: cffi>=1.0 in d:\\vs17\\anaconda3_64\\lib\\site-packages (from soundfile>=0.9.0->librosa) (1.11.5)\n",
      "Collecting llvmlite>=0.30.0dev0 (from numba>=0.43.0->librosa)\n",
      "  Using cached https://files.pythonhosted.org/packages/44/60/894615d70d4bfbb9d6b035354b5d72a2a0d5fefc579f8405d750e062cf77/llvmlite-0.30.0-cp36-cp36m-win_amd64.whl\n",
      "Requirement already satisfied: pycparser in d:\\vs17\\anaconda3_64\\lib\\site-packages (from cffi>=1.0->soundfile>=0.9.0->librosa) (2.18)\n",
      "Installing collected packages: numpy, soundfile, joblib, llvmlite, numba, audioread, resampy, librosa\n",
      "  Found existing installation: numpy 1.14.3\n",
      "    Uninstalling numpy-1.14.3:\n"
     ]
    },
    {
     "name": "stderr",
     "output_type": "stream",
     "text": [
      "distributed 1.21.8 requires msgpack, which is not installed.\n",
      "Could not install packages due to an EnvironmentError: [WinError 5] 拒绝访问。: 'd:\\\\vs17\\\\anaconda3_64\\\\lib\\\\site-packages\\\\numpy\\\\add_newdocs.py'\n",
      "Consider using the `--user` option or check the permissions.\n",
      "\n",
      "You are using pip version 10.0.1, however version 19.3.1 is available.\n",
      "You should consider upgrading via the 'python -m pip install --upgrade pip' command.\n"
     ]
    }
   ],
   "source": [
    "!pip install librosa"
   ]
  },
  {
   "cell_type": "code",
   "execution_count": 8,
   "metadata": {},
   "outputs": [
    {
     "name": "stdout",
     "output_type": "stream",
     "text": [
      "Collecting pip\n",
      "  Using cached https://files.pythonhosted.org/packages/00/b6/9cfa56b4081ad13874b0c6f96af8ce16cfbc1cb06bedf8e9164ce5551ec1/pip-19.3.1-py2.py3-none-any.whl\n",
      "Installing collected packages: pip\n",
      "  Found existing installation: pip 10.0.1\n",
      "    Uninstalling pip-10.0.1:\n"
     ]
    },
    {
     "name": "stderr",
     "output_type": "stream",
     "text": [
      "distributed 1.21.8 requires msgpack, which is not installed.\n",
      "Could not install packages due to an EnvironmentError: [WinError 5] 拒绝访问。: 'd:\\\\vs17\\\\anaconda3_64\\\\lib\\\\site-packages\\\\pip\\\\_internal\\\\basecommand.py'\n",
      "Consider using the `--user` option or check the permissions.\n",
      "\n",
      "You are using pip version 10.0.1, however version 19.3.1 is available.\n",
      "You should consider upgrading via the 'python -m pip install --upgrade pip' command.\n"
     ]
    }
   ],
   "source": [
    "!python -m pip install --upgrade pip"
   ]
  },
  {
   "cell_type": "code",
   "execution_count": 9,
   "metadata": {},
   "outputs": [
    {
     "name": "stdout",
     "output_type": "stream",
     "text": [
      "Collecting msgpack\n",
      "  Downloading https://files.pythonhosted.org/packages/e9/99/f37bac170e2e80357a9e2e4716ce4298e266c692d55a65a90cb429a2bd0d/msgpack-0.6.2-cp36-cp36m-win_amd64.whl (68kB)\n",
      "Installing collected packages: msgpack\n"
     ]
    },
    {
     "name": "stderr",
     "output_type": "stream",
     "text": [
      "Could not install packages due to an EnvironmentError: [WinError 5] 拒绝访问。: 'D:\\\\vs17\\\\Anaconda3_64\\\\Lib\\\\site-packages\\\\msgpack\\\\exceptions.py'\n",
      "Consider using the `--user` option or check the permissions.\n",
      "\n",
      "You are using pip version 10.0.1, however version 19.3.1 is available.\n",
      "You should consider upgrading via the 'python -m pip install --upgrade pip' command.\n"
     ]
    }
   ],
   "source": [
    "!pip install msgpack"
   ]
  },
  {
   "cell_type": "code",
   "execution_count": 4,
   "metadata": {},
   "outputs": [
    {
     "ename": "ModuleNotFoundError",
     "evalue": "No module named 'librosa'",
     "output_type": "error",
     "traceback": [
      "\u001b[1;31m---------------------------------------------------------------------------\u001b[0m",
      "\u001b[1;31mModuleNotFoundError\u001b[0m                       Traceback (most recent call last)",
      "\u001b[1;32m<ipython-input-4-ed67d8b08714>\u001b[0m in \u001b[0;36m<module>\u001b[1;34m()\u001b[0m\n\u001b[0;32m      1\u001b[0m \u001b[1;32mimport\u001b[0m \u001b[0mnumpy\u001b[0m \u001b[1;32mas\u001b[0m \u001b[0mnp\u001b[0m\u001b[1;33m\u001b[0m\u001b[0m\n\u001b[1;32m----> 2\u001b[1;33m \u001b[1;32mimport\u001b[0m \u001b[0mlibrosa\u001b[0m\u001b[1;33m\u001b[0m\u001b[0m\n\u001b[0m\u001b[0;32m      3\u001b[0m \u001b[1;32mimport\u001b[0m \u001b[0mmir_eval\u001b[0m\u001b[1;33m\u001b[0m\u001b[0m\n\u001b[0;32m      4\u001b[0m \u001b[1;32mimport\u001b[0m \u001b[0mmatplotlib\u001b[0m\u001b[1;33m.\u001b[0m\u001b[0mpyplot\u001b[0m \u001b[1;32mas\u001b[0m \u001b[0mplt\u001b[0m\u001b[1;33m\u001b[0m\u001b[0m\n\u001b[0;32m      5\u001b[0m \u001b[0mget_ipython\u001b[0m\u001b[1;33m(\u001b[0m\u001b[1;33m)\u001b[0m\u001b[1;33m.\u001b[0m\u001b[0mrun_line_magic\u001b[0m\u001b[1;33m(\u001b[0m\u001b[1;34m'matplotlib'\u001b[0m\u001b[1;33m,\u001b[0m \u001b[1;34m'inline'\u001b[0m\u001b[1;33m)\u001b[0m\u001b[1;33m\u001b[0m\u001b[0m\n",
      "\u001b[1;31mModuleNotFoundError\u001b[0m: No module named 'librosa'"
     ]
    }
   ],
   "source": [
    "import numpy as np\n",
    "import librosa\n",
    "import mir_eval\n",
    "import matplotlib.pyplot as plt\n",
    "%matplotlib inline"
   ]
  },
  {
   "cell_type": "code",
   "execution_count": 5,
   "metadata": {},
   "outputs": [
    {
     "ename": "SyntaxError",
     "evalue": "Missing parentheses in call to 'print'. Did you mean print(title)? (<ipython-input-5-fdf3da417a0b>, line 28)",
     "output_type": "error",
     "traceback": [
      "\u001b[1;36m  File \u001b[1;32m\"<ipython-input-5-fdf3da417a0b>\"\u001b[1;36m, line \u001b[1;32m28\u001b[0m\n\u001b[1;33m    print title\u001b[0m\n\u001b[1;37m              ^\u001b[0m\n\u001b[1;31mSyntaxError\u001b[0m\u001b[1;31m:\u001b[0m Missing parentheses in call to 'print'. Did you mean print(title)?\n"
     ]
    }
   ],
   "source": [
    "import IPython.display\n",
    "from IPython.display import display\n",
    "\n",
    "import os, deepthought\n",
    "\n",
    "from deepthought.datasets.openmiir.metadata import load_stimuli_metadata, save_beat_times\n",
    "\n",
    "STIMULI_VERSION = 2   # change to 1 for older stimuli version\n",
    "data_root = os.path.join(deepthought.DATA_PATH, 'OpenMIIR')\n",
    "default_save_beat_times = False # change to True to save beat time to txt file\n",
    "\n",
    "def play_beats(y, sr, beats):\n",
    "    \n",
    "    if y is None:\n",
    "        # Sonify the beats only\n",
    "        y_beat = mir_eval.sonify.clicks(beats, sr, length=len(y))\n",
    "    else:\n",
    "        # Sonify the beats and add them to y\n",
    "        y_beat = y + mir_eval.sonify.clicks(beats, sr, length=len(y))    \n",
    "    \n",
    "    return IPython.display.Audio(data=y_beat, rate=sr)\n",
    "\n",
    "def visualize(y, sr, title=None, playback=True, beats=None):\n",
    "    \n",
    "    # show playback widget above figure\n",
    "    if playback:\n",
    "        if title is not None:\n",
    "            print title\n",
    "        \n",
    "        if beats is None:\n",
    "            display(IPython.display.Audio(data=y, rate=sr))\n",
    "        else:\n",
    "            beat_times = librosa.frames_to_time(beats, sr=sr, hop_length=64)\n",
    "            display(play_beats(y, sr, beat_times))\n",
    "    \n",
    "    # Let's make and display a mel-scaled power (energy-squared) spectrogram\n",
    "    # We use a small hop length of 64 here so that the frames line up with the beat tracker example below.\n",
    "    S = librosa.feature.melspectrogram(y, sr=sr, n_fft=2048, hop_length=64, n_mels=128)\n",
    "\n",
    "    # Convert to log scale (dB). We'll use the peak power as reference.\n",
    "    log_S = librosa.logamplitude(S, ref_power=np.max)\n",
    "\n",
    "    # Make a new figure\n",
    "    plt.figure(figsize=(12,4))\n",
    "\n",
    "    # Display the spectrogram on a mel scale\n",
    "    # sample rate and hop length parameters are used to render the time axis\n",
    "    librosa.display.specshow(log_S, sr=sr, hop_length=64, x_axis='time', y_axis='mel')\n",
    "\n",
    "    # Put a descriptive title on the plot\n",
    "    if title is not None:\n",
    "        plt.title('mel power spectrogram ({})'.format(title))\n",
    "\n",
    "    if beats is not None:\n",
    "        # Let's draw lines with a drop shadow on the beat events\n",
    "        plt.vlines(beats, 0, log_S.shape[0], colors='k', linestyles='-', linewidth=2.5)\n",
    "        plt.vlines(beats, 0, log_S.shape[0], colors='w', linestyles='-', linewidth=1.5)\n",
    "        \n",
    "    # draw a color bar\n",
    "    plt.colorbar(format='%+02.0f dB')\n",
    "\n",
    "    # Make the figure layout compact\n",
    "    plt.tight_layout()\n",
    "\n",
    "    # This make sure the figures are plotted in place and not after text and audio\n",
    "    plt.show()\n",
    "    plt.close()\n",
    "    \n",
    "\n",
    "def _analyze_beats(audio_filepath, bpm, label=None, tightness=400, offset=0, duration=None, vy=True, vh=True, vp=True, vb=True):\n",
    "    print audio_filepath\n",
    "    # load audio file\n",
    "#     sr = 22050  # default\n",
    "    sr = 44100  # slower but gives better results for Harry Potter Theme\n",
    "    y, sr = librosa.load(audio_filepath, sr=sr, offset=offset, duration=duration)\n",
    "    \n",
    "    if label is not None:\n",
    "        print label\n",
    "    \n",
    "    if vy:\n",
    "        visualize(y, sr, 'original')\n",
    "    \n",
    "    # split into harmonic and percussive component\n",
    "    y_harmonic, y_percussive = librosa.effects.hpss(y)\n",
    "    \n",
    "    if vh:\n",
    "        visualize(y_harmonic, sr, 'harmonic component')\n",
    "    if vp:\n",
    "        visualize(y_percussive, sr, 'percussive component')\n",
    "    \n",
    "    # Now, let's run the beat tracker\n",
    "    # We'll use the percussive component for this part\n",
    "    # By default, the beat tracker will trim away any leading or trailing beats that don't appear strong enough.\n",
    "    # To disable this behavior, call beat_track() with trim=False.\n",
    "\n",
    "    tempo, beats = librosa.beat.beat_track(y=y_percussive, sr=sr, hop_length=64, trim=False, start_bpm=bpm, tightness=tightness)\n",
    "\n",
    "    # Let's re-draw the spectrogram, but this time, overlay the detected beats\n",
    "    if vb:\n",
    "        visualize(y, sr, 'with beats', beats=beats)\n",
    "\n",
    "    print 'Offset:                 %.4f s' % offset\n",
    "        \n",
    "    print 'Expected tempo:         %.2f BPM' % bpm\n",
    "    print 'Estimated tempo:        %.2f BPM' % tempo\n",
    "    print 'First 5 beat frames:   ', beats[:5]\n",
    "\n",
    "    # Frame numbers are great and all, but when do those beats occur?\n",
    "    print 'First 5 beat times:    ', librosa.frames_to_time(beats[:5], sr=sr, hop_length=64)\n",
    "    \n",
    "    return tempo, beats, librosa.frames_to_time(beats, sr=sr, hop_length=64)\n",
    "\n",
    "def get_audio_filepath(meta):\n",
    "    return os.path.join(data_root, 'audio', 'full.v{}'.format(STIMULI_VERSION), meta['audio_file'])\n",
    "\n",
    "def analyze_beats(meta, tightness=400, save=default_save_beat_times, **kwargs):\n",
    "    tempo, beat_frames, beat_times = _analyze_beats(\n",
    "        audio_filepath=get_audio_filepath(meta),\n",
    "        label=meta['label'], \n",
    "        bpm=meta['bpm'], \n",
    "        tightness=tightness, \n",
    "        offset=meta['length_of_cue'],\n",
    "        **kwargs\n",
    "    )\n",
    "    \n",
    "    if save:\n",
    "        offset = meta['length_of_cue']\n",
    "        save_beat_times(beat_times, stimulus_id=meta['id'], offset=offset, version=STIMULI_VERSION)\n",
    "\n",
    "    return tempo, beat_frames, beat_times"
   ]
  },
  {
   "cell_type": "code",
   "execution_count": null,
   "metadata": {},
   "outputs": [],
   "source": [
    "# NOTE: this is experimental\n",
    "def analyze_onsets(meta):\n",
    "    audio_filepath=os.path.join(data_root, 'audio', 'full.v{}'.format(STIMULI_VERSION), meta['audio_file'])\n",
    "    sr = 44100  # slower but gives better results for Harry Potter Theme\n",
    "    offset=meta['length_of_cue']\n",
    "    duration=None\n",
    "    print sr\n",
    "    y, sr = librosa.load(audio_filepath, sr=sr, offset=offset, duration=duration)\n",
    "    \"\"\"\n",
    "    # Get onset times from a signal\n",
    "    onset_frames = librosa.onset.onset_detect(y=y, sr=sr, hop_length=64)\n",
    "    onset_times = librosa.frames_to_time(onset_frames, sr, hop_length=64)\n",
    "\n",
    "    # Or use a pre-computed onset envelope\n",
    "    o_env = librosa.onset.onset_strength(y, sr=sr)\n",
    "    onset_frames = librosa.onset.onset_detect(onset_envelope=o_env, sr=sr)\n",
    "    onset_times = librosa.frames_to_time(onset_frames, sr, hop_length=64)\n",
    "    \"\"\"\n",
    "    onset_frames = librosa.onset.onset_detect(y=y, sr=sr, hop_length=64)\n",
    "    print onset_frames\n",
    "    visualize(y, sr, 'with beats', beats=onset_frames)\n",
    "    \n",
    "    o_env = librosa.onset.onset_strength(y, sr=sr)\n",
    "    plt.plot(o_env)\n",
    "    onset_frames = librosa.onset.onset_detect(onset_envelope=o_env, sr=sr)\n",
    "    print onset_frames\n",
    "    visualize(y, sr, 'with beats', beats=onset_frames*7)"
   ]
  },
  {
   "cell_type": "code",
   "execution_count": null,
   "metadata": {},
   "outputs": [],
   "source": [
    "meta = load_stimuli_metadata(data_root, version=STIMULI_VERSION)\n",
    "# print meta"
   ]
  },
  {
   "cell_type": "markdown",
   "metadata": {},
   "source": [
    "# some examples"
   ]
  },
  {
   "cell_type": "code",
   "execution_count": null,
   "metadata": {},
   "outputs": [],
   "source": [
    "# run this to analyze onsets for stimulus 22\n",
    "analyze_onsets(meta[22])"
   ]
  },
  {
   "cell_type": "code",
   "execution_count": null,
   "metadata": {},
   "outputs": [],
   "source": [
    "# run this to analyze onsets for stimulus 1, specify tightness\n",
    "tempo, beat_frames, beat_times = analyze_beats(meta[1], tightness=800)\n",
    "print beat_times\n",
    "print beat_frames"
   ]
  },
  {
   "cell_type": "code",
   "execution_count": null,
   "metadata": {},
   "outputs": [],
   "source": [
    "# analyze beginning of stimulus 22, \n",
    "# suppress visualization of original signal (vy) and harmonic (vh) and percussive (vp) component\n",
    "_analyze_beats(get_audio_filepath(meta[22]), \n",
    "               bpm=166, tightness=250, offset=2.182, duration=4.0, vy=False, vh=False, vp=False);"
   ]
  },
  {
   "cell_type": "code",
   "execution_count": null,
   "metadata": {},
   "outputs": [],
   "source": [
    "# test different tightness settings on stimulus 22\n",
    "_analyze_beats(get_audio_filepath(meta[22]), \n",
    "               bpm=166, tightness=250, offset=0, duration=None, vy=False, vh=False, vp=False);\n",
    "_analyze_beats(get_audio_filepath(meta[22]), \n",
    "               bpm=166, tightness=400, offset=0, duration=None, vy=False, vh=False, vp=False);\n",
    "_analyze_beats(get_audio_filepath(meta[22]), \n",
    "               bpm=166, tightness=800, offset=0, duration=None, vy=False, vh=False, vp=False);"
   ]
  },
  {
   "cell_type": "markdown",
   "metadata": {},
   "source": [
    "# analyze stimuli"
   ]
  },
  {
   "cell_type": "code",
   "execution_count": null,
   "metadata": {},
   "outputs": [],
   "source": [
    "_ = analyze_beats(meta[1], tightness=1000, vy=False, vh=False, vp=False)"
   ]
  },
  {
   "cell_type": "code",
   "execution_count": null,
   "metadata": {},
   "outputs": [],
   "source": [
    "_ = analyze_beats(meta[2], tightness=800, vy=False, vh=False, vp=False)"
   ]
  },
  {
   "cell_type": "code",
   "execution_count": null,
   "metadata": {},
   "outputs": [],
   "source": [
    "_ = analyze_beats(meta[3], tightness=800, vy=False, vh=False, vp=False)"
   ]
  },
  {
   "cell_type": "code",
   "execution_count": null,
   "metadata": {},
   "outputs": [],
   "source": [
    "_ = analyze_beats(meta[4], tightness=800, vy=False, vh=False, vp=False)"
   ]
  },
  {
   "cell_type": "code",
   "execution_count": null,
   "metadata": {},
   "outputs": [],
   "source": [
    "_ = analyze_beats(meta[11], tightness=800, vy=False, vh=False, vp=False)"
   ]
  },
  {
   "cell_type": "code",
   "execution_count": null,
   "metadata": {},
   "outputs": [],
   "source": [
    "_ = analyze_beats(meta[12], tightness=800, vy=False, vh=False, vp=False)"
   ]
  },
  {
   "cell_type": "code",
   "execution_count": null,
   "metadata": {},
   "outputs": [],
   "source": [
    "_ = analyze_beats(meta[13], tightness=800, vy=False, vh=False, vp=False)"
   ]
  },
  {
   "cell_type": "code",
   "execution_count": null,
   "metadata": {},
   "outputs": [],
   "source": [
    "_ = analyze_beats(meta[14], tightness=800, vy=False, vh=False, vp=False)"
   ]
  },
  {
   "cell_type": "code",
   "execution_count": null,
   "metadata": {},
   "outputs": [],
   "source": [
    "_ = analyze_beats(meta[21], tightness=800, vy=False, vh=False, vp=False)"
   ]
  },
  {
   "cell_type": "code",
   "execution_count": null,
   "metadata": {},
   "outputs": [],
   "source": [
    "_ = analyze_beats(meta[22], tightness=300, vy=False, vh=False, vp=False)"
   ]
  },
  {
   "cell_type": "code",
   "execution_count": null,
   "metadata": {},
   "outputs": [],
   "source": [
    "_ = analyze_beats(meta[23], tightness=800, vy=False, vh=False, vp=False)"
   ]
  },
  {
   "cell_type": "code",
   "execution_count": null,
   "metadata": {},
   "outputs": [],
   "source": [
    "_ = analyze_beats(meta[24], tightness=800, vy=False, vh=False, vp=False)"
   ]
  },
  {
   "cell_type": "markdown",
   "metadata": {},
   "source": [
    "# analyze cue click tracks"
   ]
  },
  {
   "cell_type": "code",
   "execution_count": null,
   "metadata": {},
   "outputs": [],
   "source": [
    "from deepthought.datasets.openmiir.constants import STIMULUS_IDS\n",
    "\n",
    "for stimulus_id in STIMULUS_IDS:\n",
    "    tempo, beat_frames, beat_times = _analyze_beats(\n",
    "        audio_filepath=os.path.join(data_root, 'audio', 'cues.v{}'.format(STIMULI_VERSION), meta[stimulus_id]['cue_file']), \n",
    "        label=meta[stimulus_id]['label'], \n",
    "        bpm=meta[stimulus_id]['cue_bpm'], \n",
    "        tightness=10000, vy=False, vh=False, vp=False\n",
    "    )\n",
    "    \n",
    "    if default_save_beat_times:\n",
    "        save_beat_times(beat_times, stimulus_id=stimulus_id, cue=True, version=STIMULI_VERSION)"
   ]
  }
 ],
 "metadata": {
  "kernelspec": {
   "display_name": "Python 3",
   "language": "python",
   "name": "python3"
  },
  "language_info": {
   "codemirror_mode": {
    "name": "ipython",
    "version": 3
   },
   "file_extension": ".py",
   "mimetype": "text/x-python",
   "name": "python",
   "nbconvert_exporter": "python",
   "pygments_lexer": "ipython3",
   "version": "3.6.5"
  }
 },
 "nbformat": 4,
 "nbformat_minor": 1
}
